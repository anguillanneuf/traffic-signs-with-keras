{
 "cells": [
  {
   "cell_type": "markdown",
   "metadata": {},
   "source": [
    "# Traffic Sign Classification with Keras\n",
    "\n",
    "Keras exists to make coding deep neural networks simpler. To demonstrate just how easy it is, you’re going to use Keras to build a convolutional neural network in a few dozen lines of code.\n",
    "\n",
    "You’ll be connecting the concepts from the previous lessons to the methods that Keras provides."
   ]
  },
  {
   "cell_type": "markdown",
   "metadata": {},
   "source": [
    "## Dataset\n",
    "\n",
    "The network you'll build with Keras is similar to the example that you can find in Keras’s GitHub repository that builds out a [convolutional neural network for MNIST](https://github.com/fchollet/keras/blob/master/examples/mnist_cnn.py). \n",
    "\n",
    "However, instead of using the [MNIST](http://yann.lecun.com/exdb/mnist/) dataset, you're going to use the [German Traffic Sign Recognition Benchmark](http://benchmark.ini.rub.de/?section=gtsrb&subsection=news) dataset that you've used previously.\n",
    "\n",
    "You can download pickle files with sanitized traffic sign data here."
   ]
  },
  {
   "cell_type": "markdown",
   "metadata": {},
   "source": [
    "## Overview\n",
    "\n",
    "Here are the steps you'll take to build the network:\n",
    "\n",
    "1. First load the training data and do a train/validation split.\n",
    "2. Preprocess data.\n",
    "3. Build a feedforward neural network to classify traffic signs.\n",
    "4. Build a convolutional neural network to classify traffic signs.\n",
    "5. Evaluate performance of final neural network on testing data.\n",
    "\n",
    "Keep an eye on the network’s accuracy over time. Once the accuracy reaches the 98% range, you can be confident that you’ve built and trained an effective model."
   ]
  },
  {
   "cell_type": "code",
   "execution_count": 63,
   "metadata": {
    "collapsed": false
   },
   "outputs": [],
   "source": [
    "import pickle\n",
    "import numpy as np\n",
    "from sklearn.model_selection import train_test_split\n",
    "import math"
   ]
  },
  {
   "cell_type": "markdown",
   "metadata": {},
   "source": [
    "## Load the Data\n",
    "\n",
    "Start by importing the data from the pickle file."
   ]
  },
  {
   "cell_type": "code",
   "execution_count": 64,
   "metadata": {
    "collapsed": false
   },
   "outputs": [
    {
     "data": {
      "text/plain": [
       "'/Users/tz/Documents/carnd/misc/l11 keras'"
      ]
     },
     "execution_count": 64,
     "metadata": {},
     "output_type": "execute_result"
    }
   ],
   "source": [
    "pwd"
   ]
  },
  {
   "cell_type": "code",
   "execution_count": 65,
   "metadata": {
    "collapsed": false
   },
   "outputs": [],
   "source": [
    "# TODO: Implement load the data here.\n",
    "with open('train.p', 'rb') as f:\n",
    "    data = pickle.load(f)\n",
    "with open('test.p', 'rb') as f:\n",
    "    test = pickle.load(f)"
   ]
  },
  {
   "cell_type": "markdown",
   "metadata": {},
   "source": [
    "## Validate the Network\n",
    "Split the training data into a training and validation set.\n",
    "\n",
    "Measure the [validation accuracy](https://keras.io/models/sequential/) of the network after two training epochs.\n",
    "\n",
    "Hint: [Use the `train_test_split()` method](http://scikit-learn.org/stable/modules/generated/sklearn.model_selection.train_test_split.html) from scikit-learn."
   ]
  },
  {
   "cell_type": "code",
   "execution_count": 66,
   "metadata": {
    "collapsed": false
   },
   "outputs": [
    {
     "name": "stdout",
     "output_type": "stream",
     "text": [
      "dict_keys(['features', 'labels'])\n"
     ]
    }
   ],
   "source": [
    "print(data.keys())"
   ]
  },
  {
   "cell_type": "code",
   "execution_count": 67,
   "metadata": {
    "collapsed": true
   },
   "outputs": [],
   "source": [
    "# TODO: Use `train_test_split` here.\n",
    "\n",
    "X_train, X_val, y_train, y_val = train_test_split(data['features'], data['labels'], \n",
    "                                                  test_size=0.33)"
   ]
  },
  {
   "cell_type": "code",
   "execution_count": 68,
   "metadata": {
    "collapsed": true
   },
   "outputs": [],
   "source": [
    "# STOP: Do not change the tests below. Your implementation should pass these tests. \n",
    "assert(X_train.shape[0] == y_train.shape[0]), \"The number of images is not equal to the number of labels.\"\n",
    "assert(X_train.shape[1:] == (32,32,3)), \"The dimensions of the images are not 32 x 32 x 3.\"\n",
    "assert(X_val.shape[0] == y_val.shape[0]), \"The number of images is not equal to the number of labels.\"\n",
    "assert(X_val.shape[1:] == (32,32,3)), \"The dimensions of the images are not 32 x 32 x 3.\""
   ]
  },
  {
   "cell_type": "markdown",
   "metadata": {},
   "source": [
    "## Preprocess the Data\n",
    "\n",
    "Now that you've loaded the training data, preprocess the data such that it's in the range between -0.5 and 0.5."
   ]
  },
  {
   "cell_type": "code",
   "execution_count": 69,
   "metadata": {
    "collapsed": false
   },
   "outputs": [
    {
     "data": {
      "text/plain": [
       "(32, 32, 3)"
      ]
     },
     "execution_count": 69,
     "metadata": {},
     "output_type": "execute_result"
    }
   ],
   "source": [
    "# TODO: Implement data normalization here.\n",
    "\n",
    "X_train[0].shape"
   ]
  },
  {
   "cell_type": "code",
   "execution_count": 70,
   "metadata": {
    "collapsed": false
   },
   "outputs": [
    {
     "name": "stdout",
     "output_type": "stream",
     "text": [
      "[[ 0.49964595]\n",
      " [ 0.5213697 ]\n",
      " [ 0.49964595]\n",
      " [ 0.4779222 ]\n",
      " [ 0.02172374]]\n",
      "[ 0.11827955  0.14516127  0.11827955  0.09139784 -0.47311828]\n"
     ]
    }
   ],
   "source": [
    "tz = np.array([23,24,23,22,1], dtype=np.float32)\n",
    "from sklearn.preprocessing import normalize\n",
    "print(normalize(tz.reshape(-1,1), axis=0))\n",
    "\n",
    "tz0 = (tz-np.mean(tz))/(2*np.mean(tz))\n",
    "print(tz0)"
   ]
  },
  {
   "cell_type": "code",
   "execution_count": 71,
   "metadata": {
    "collapsed": false
   },
   "outputs": [],
   "source": [
    "X_train = (X_train-255./2)/(255.)\n",
    "X_val = (X_val-255./2)/(255.)"
   ]
  },
  {
   "cell_type": "code",
   "execution_count": 72,
   "metadata": {
    "collapsed": false
   },
   "outputs": [],
   "source": [
    "# STOP: Do not change the tests below. Your implementation should pass these tests. \n",
    "assert(math.isclose(np.min(X_train), -0.5, abs_tol=1e-5) and math.isclose(np.max(X_train), 0.5, abs_tol=1e-5)), \"The range of the training data is: %.1f to %.1f\" % (np.min(X_train), np.max(X_train))\n",
    "assert(math.isclose(np.min(X_val), -0.5, abs_tol=1e-5) and math.isclose(np.max(X_val), 0.5, abs_tol=1e-5)), \"The range of the validation data is: %.1f to %.1f\" % (np.min(X_val), np.max(X_val))"
   ]
  },
  {
   "cell_type": "markdown",
   "metadata": {},
   "source": [
    "## Build a Two-Layer Feedfoward Network\n",
    "\n",
    "The code you've written so far is for data processing, not specific to Keras. Here you're going to build Keras-specific code.\n",
    "\n",
    "Build a two-layer feedforward neural network, with 128 neurons in the fully-connected hidden layer. \n",
    "\n",
    "To get started, review the Keras documentation about [models](https://keras.io/models/sequential/) and [layers](https://keras.io/layers/core/).\n",
    "\n",
    "The Keras example of a [Multi-Layer Perceptron](https://github.com/fchollet/keras/blob/master/examples/mnist_mlp.py) network is similar to what you need to do here. Use that as a guide, but keep in mind that there are a number of differences."
   ]
  },
  {
   "cell_type": "code",
   "execution_count": 77,
   "metadata": {
    "collapsed": false
   },
   "outputs": [],
   "source": [
    "# TODO: Build a two-layer feedforward neural network with Keras here.\n",
    "\n",
    "'''\n",
    "from keras.models import Sequential\n",
    "from keras.layers.core import Dense, Dropout, Activation\n",
    "from keras.optimizers import SGD, Adam, RMSprop\n",
    "from keras.utils import np_utils\n",
    "\n",
    "model = Sequential()\n",
    "model.add(Dense(512, input_shape=(784,)))\n",
    "model.add(Activation('relu'))\n",
    "model.add(Dropout(0.2))\n",
    "model.add(Dense(512))\n",
    "model.add(Activation('relu'))\n",
    "model.add(Dropout(0.2))\n",
    "model.add(Dense(10))\n",
    "model.add(Activation('softmax'))\n",
    "\n",
    "model.summary()\n",
    "\n",
    "model.compile(loss='categorical_crossentropy',\n",
    "              optimizer=RMSprop(),\n",
    "              metrics=['accuracy'])\n",
    "\n",
    "history = model.fit(X_train, Y_train,\n",
    "                    batch_size=batch_size, nb_epoch=nb_epoch,\n",
    "                    verbose=1, validation_data=(X_test, Y_test))\n",
    "score = model.evaluate(X_test, Y_test, verbose=0)\n",
    "print('Test score:', score[0])\n",
    "print('Test accuracy:', score[1])\n",
    "'''\n",
    "from keras.models import Sequential\n",
    "from keras.layers.core import Dense, Dropout, Activation"
   ]
  },
  {
   "cell_type": "code",
   "execution_count": 83,
   "metadata": {
    "collapsed": false
   },
   "outputs": [
    {
     "name": "stdout",
     "output_type": "stream",
     "text": [
      "____________________________________________________________________________________________________\n",
      "Layer (type)                     Output Shape          Param #     Connected to                     \n",
      "====================================================================================================\n",
      "dense_18 (Dense)                 (None, 128)           393344      dense_input_8[0][0]              \n",
      "____________________________________________________________________________________________________\n",
      "activation_16 (Activation)       (None, 128)           0           dense_18[0][0]                   \n",
      "____________________________________________________________________________________________________\n",
      "dense_19 (Dense)                 (None, 43)            5547        activation_16[0][0]              \n",
      "____________________________________________________________________________________________________\n",
      "activation_17 (Activation)       (None, 43)            0           dense_19[0][0]                   \n",
      "====================================================================================================\n",
      "Total params: 398891\n",
      "____________________________________________________________________________________________________\n"
     ]
    }
   ],
   "source": [
    "model = Sequential()\n",
    "model.add(Dense(128, input_shape=(3072, )))\n",
    "model.add(Activation('relu'))\n",
    "# model.add(Dropout(0.5))\n",
    "model.add(Dense(43, input_shape=(128, )))\n",
    "model.add(Activation('softmax'))\n",
    "model.summary()"
   ]
  },
  {
   "cell_type": "code",
   "execution_count": 84,
   "metadata": {
    "collapsed": false
   },
   "outputs": [],
   "source": [
    "# STOP: Do not change the tests below. Your implementation should pass these tests.\n",
    "dense_layers = []\n",
    "for l in model.layers:\n",
    "    if type(l) == Dense:\n",
    "        dense_layers.append(l)\n",
    "assert(len(dense_layers) == 2), \"There should be 2 Dense layers.\"\n",
    "d1 = dense_layers[0]\n",
    "d2 = dense_layers[1]\n",
    "assert(d1.input_shape == (None, 3072))\n",
    "assert(d1.output_shape == (None, 128))\n",
    "assert(d2.input_shape == (None, 128))\n",
    "assert(d2.output_shape == (None, 43))\n",
    "\n",
    "last_layer = model.layers[-1]\n",
    "assert(last_layer.activation.__name__ == 'softmax'), \"Last layer should be softmax activation, is {}.\".format(last_layer.activation.__name__)"
   ]
  },
  {
   "cell_type": "code",
   "execution_count": 85,
   "metadata": {
    "collapsed": false
   },
   "outputs": [
    {
     "name": "stdout",
     "output_type": "stream",
     "text": [
      "dense_18 (None, 3072) (None, 128) <function linear at 0x13aa671e0>\n",
      "activation_16 (None, 128) (None, 128) <function relu at 0x13aa5cf28>\n",
      "dense_19 (None, 128) (None, 43) <function linear at 0x13aa671e0>\n",
      "activation_17 (None, 43) (None, 43) <function softmax at 0x13aa5cd08>\n"
     ]
    }
   ],
   "source": [
    "# Debugging\n",
    "for l in model.layers:\n",
    "    print(l.name, l.input_shape, l.output_shape, l.activation)"
   ]
  },
  {
   "cell_type": "markdown",
   "metadata": {},
   "source": [
    "## Train the Network\n",
    "Compile and train the network for 2 epochs. [Use the `adam` optimizer, with `categorical_crossentropy` loss.](https://keras.io/models/sequential/)\n",
    "\n",
    "Hint 1: In order to use categorical cross entropy, you will need to [one-hot encode the labels](https://github.com/fchollet/keras/blob/master/keras/utils/np_utils.py).\n",
    "\n",
    "Hint 2: In order to pass the input images to the fully-connected hidden layer, you will need to [reshape the input](https://github.com/fchollet/keras/blob/master/examples/mnist_mlp.py).\n",
    "\n",
    "Hint 3: Keras's `.fit()` method returns a `History.history` object, which the tests below use. Save that to a variable named `history`."
   ]
  },
  {
   "cell_type": "code",
   "execution_count": 86,
   "metadata": {
    "collapsed": false
   },
   "outputs": [
    {
     "data": {
      "text/plain": [
       "(26270, 3072)"
      ]
     },
     "execution_count": 86,
     "metadata": {},
     "output_type": "execute_result"
    }
   ],
   "source": [
    "X_train.reshape(-1, 32*32*3).shape"
   ]
  },
  {
   "cell_type": "code",
   "execution_count": 87,
   "metadata": {
    "collapsed": true
   },
   "outputs": [],
   "source": [
    "def to_categorical(y, nb_classes=None):\n",
    "    '''Convert class vector (integers from 0 to nb_classes) to binary class matrix, \n",
    "    for use with categorical_crossentropy.\n",
    "    # Arguments\n",
    "        y: class vector to be converted into a matrix\n",
    "        nb_classes: total number of classes\n",
    "    # Returns\n",
    "        A binary matrix representation of the input.\n",
    "        \n",
    "    source : https://github.com/fchollet/keras/blob/master/keras/utils/np_utils.py\n",
    "    '''\n",
    "    y = np.array(y, dtype='int')\n",
    "    if not nb_classes:\n",
    "        nb_classes = np.max(y)+1\n",
    "    Y = np.zeros((len(y), nb_classes))\n",
    "    for i in range(len(y)):\n",
    "        Y[i, y[i]] = 1.\n",
    "    return Y"
   ]
  },
  {
   "cell_type": "code",
   "execution_count": 99,
   "metadata": {
    "collapsed": false
   },
   "outputs": [
    {
     "name": "stdout",
     "output_type": "stream",
     "text": [
      "Train on 26270 samples, validate on 12939 samples\n",
      "Epoch 1/2\n",
      "26270/26270 [==============================] - 1s - loss: 0.3988 - acc: 0.9044 - val_loss: 0.3849 - val_acc: 0.9068\n",
      "Epoch 2/2\n",
      "26270/26270 [==============================] - 1s - loss: 0.3218 - acc: 0.9345 - val_loss: 0.3578 - val_acc: 0.9182\n"
     ]
    }
   ],
   "source": [
    "# TODO: Compile and train the model here.\n",
    "from keras.optimizers import SGD, Adam, RMSprop\n",
    "from keras.utils import np_utils\n",
    "\n",
    "model.compile(loss='categorical_crossentropy',\n",
    "              optimizer=Adam(),\n",
    "              metrics=['accuracy'])\n",
    "\n",
    "# increasing the batch_size to 1024 increased my validation and test accuracy by a lot!\n",
    "history = model.fit(X_train.reshape(-1, 32*32*3), to_categorical(y_train),\n",
    "                    batch_size=1024, nb_epoch=2,\n",
    "                    verbose=1, validation_data=(X_val.reshape(-1,32*32*3), to_categorical(y_val)))"
   ]
  },
  {
   "cell_type": "code",
   "execution_count": 100,
   "metadata": {
    "collapsed": false
   },
   "outputs": [
    {
     "name": "stdout",
     "output_type": "stream",
     "text": [
      "Test score: 7.03699107906\n",
      "Test accuracy: 0.559778305617\n"
     ]
    }
   ],
   "source": [
    "X_test = test['features']\n",
    "y_test = test['labels']\n",
    "\n",
    "score = model.evaluate(X_test.reshape(-1, 32*32*3), to_categorical(y_test), verbose=0)\n",
    "\n",
    "print('Test score:', score[0])\n",
    "print('Test accuracy:', score[1])"
   ]
  },
  {
   "cell_type": "code",
   "execution_count": 101,
   "metadata": {
    "collapsed": false
   },
   "outputs": [],
   "source": [
    "# STOP: Do not change the tests below. Your implementation should pass these tests.\n",
    "assert(history.history['acc'][-1] > 0.92), \"The training accuracy was: %.3f\" % history.history['acc'][-1]\n",
    "assert(history.history['val_acc'][-1] > 0.9), \"The validation accuracy is: %.3f\" % history.history['val_acc'][-1]"
   ]
  },
  {
   "cell_type": "markdown",
   "metadata": {},
   "source": [
    "**Validation Accuracy**: (fill in here) 91.815%"
   ]
  },
  {
   "cell_type": "code",
   "execution_count": 104,
   "metadata": {
    "collapsed": false
   },
   "outputs": [
    {
     "name": "stdout",
     "output_type": "stream",
     "text": [
      "[0.90437761733048216, 0.93452607559803824]\n",
      "[0.90679341666581814, 0.91815441692987487]\n"
     ]
    }
   ],
   "source": [
    "print(history.history['acc'])\n",
    "print(history.history['val_acc'])"
   ]
  },
  {
   "cell_type": "markdown",
   "metadata": {},
   "source": [
    "## Congratulations\n",
    "You've built a feedforward neural network in Keras!\n",
    "\n",
    "Don't stop here! Next, you'll add a convolutional layer to drive.py."
   ]
  },
  {
   "cell_type": "markdown",
   "metadata": {},
   "source": [
    "## Convolutions\n",
    "Build a new network, similar to your existing network. Before the hidden layer, add a 3x3 [convolutional layer](https://keras.io/layers/convolutional/#convolution2d) with 32 filters and valid padding.\n",
    "\n",
    "Then compile and train the network.\n",
    "\n",
    "Hint 1: The Keras example of a [convolutional neural network](https://github.com/fchollet/keras/blob/master/examples/mnist_cnn.py) for MNIST would be a good example to review.\n",
    "\n",
    "Hint 2: Now that the first layer of the network is a convolutional layer, you no longer need to reshape the input images before passing them to the network. You might need to reload your training data to recover the original shape.\n",
    "\n",
    "Hint 3: Add a [`Flatten()` layer](https://keras.io/layers/core/#flatten) between the convolutional layer and the fully-connected hidden layer."
   ]
  },
  {
   "cell_type": "code",
   "execution_count": 116,
   "metadata": {
    "collapsed": false
   },
   "outputs": [],
   "source": [
    "# from keras import backend as K\n",
    "# K.image_dim_ordering()\n",
    "\n",
    "\n",
    "# img_rows, img_cols = 32, 32\n",
    "# if K.image_dim_ordering() == 'th':\n",
    "#     X_train = X_train.reshape(X_train.shape[0], 1, img_rows, img_cols)\n",
    "#     X_test = X_test.reshape(X_test.shape[0], 1, img_rows, img_cols)\n",
    "#     input_shape = (1, img_rows, img_cols)\n",
    "# else:\n",
    "#     X_train = X_train.reshape(X_train.shape[0], img_rows, img_cols, 1)\n",
    "#     X_test = X_test.reshape(X_test.shape[0], img_rows, img_cols, 1)\n",
    "#     input_shape = (img_rows, img_cols, 1)\n",
    "# print(input_shape)"
   ]
  },
  {
   "cell_type": "code",
   "execution_count": 117,
   "metadata": {
    "collapsed": false
   },
   "outputs": [
    {
     "name": "stdout",
     "output_type": "stream",
     "text": [
      "____________________________________________________________________________________________________\n",
      "Layer (type)                     Output Shape          Param #     Connected to                     \n",
      "====================================================================================================\n",
      "convolution2d_1 (Convolution2D)  (None, 30, 30, 32)    896         convolution2d_input_1[0][0]      \n",
      "____________________________________________________________________________________________________\n",
      "activation_18 (Activation)       (None, 30, 30, 32)    0           convolution2d_1[0][0]            \n",
      "____________________________________________________________________________________________________\n",
      "flatten_1 (Flatten)              (None, 28800)         0           activation_18[0][0]              \n",
      "____________________________________________________________________________________________________\n",
      "dense_20 (Dense)                 (None, 128)           3686528     flatten_1[0][0]                  \n",
      "____________________________________________________________________________________________________\n",
      "activation_19 (Activation)       (None, 128)           0           dense_20[0][0]                   \n",
      "____________________________________________________________________________________________________\n",
      "dropout_11 (Dropout)             (None, 128)           0           activation_19[0][0]              \n",
      "____________________________________________________________________________________________________\n",
      "dense_21 (Dense)                 (None, 43)            5547        dropout_11[0][0]                 \n",
      "____________________________________________________________________________________________________\n",
      "activation_20 (Activation)       (None, 43)            0           dense_21[0][0]                   \n",
      "====================================================================================================\n",
      "Total params: 3692971\n",
      "____________________________________________________________________________________________________\n"
     ]
    }
   ],
   "source": [
    "# TODO: Re-construct the network and add a convolutional layer before the first fully-connected layer.\n",
    "\n",
    "# TODO: Compile and train the model here.\n",
    "\n",
    "from keras.models import Sequential\n",
    "from keras.layers import Dense, Dropout, Activation, Flatten\n",
    "from keras.layers import Convolution2D, MaxPooling2D\n",
    "\n",
    "nb_filters = 32\n",
    "# pool_size = (2, 2)\n",
    "kernel_size = (3, 3)\n",
    "input_shape = (32,32,3)\n",
    "\n",
    "model = Sequential()\n",
    "\n",
    "model.add(Convolution2D(nb_filters, kernel_size[0], kernel_size[1],\n",
    "                        border_mode='valid',\n",
    "                        input_shape=input_shape))\n",
    "model.add(Activation('relu'))\n",
    "# model.add(MaxPooling2D(pool_size=pool_size))\n",
    "# model.add(Dropout(0.25))\n",
    "\n",
    "model.add(Flatten())\n",
    "\n",
    "model.add(Dense(128, input_shape=(3072, )))\n",
    "model.add(Activation('relu'))\n",
    "model.add(Dropout(0.5))\n",
    "model.add(Dense(43, input_shape=(128, )))\n",
    "model.add(Activation('softmax'))\n",
    "model.summary()\n",
    "\n",
    "model.compile(loss='categorical_crossentropy',\n",
    "              optimizer = Adam(), #optimizer='adadelta',\n",
    "              metrics=['accuracy'])"
   ]
  },
  {
   "cell_type": "code",
   "execution_count": 134,
   "metadata": {
    "collapsed": false
   },
   "outputs": [
    {
     "name": "stdout",
     "output_type": "stream",
     "text": [
      "Train on 26270 samples, validate on 12939 samples\n",
      "Epoch 1/10\n",
      "26270/26270 [==============================] - 18s - loss: 0.7282 - acc: 0.8022 - val_loss: 0.5000 - val_acc: 0.8833\n",
      "Epoch 2/10\n",
      "26270/26270 [==============================] - 18s - loss: 0.6719 - acc: 0.8151 - val_loss: 0.4511 - val_acc: 0.9055\n",
      "Epoch 3/10\n",
      "26270/26270 [==============================] - 18s - loss: 0.6180 - acc: 0.8308 - val_loss: 0.4061 - val_acc: 0.9165\n",
      "Epoch 4/10\n",
      "26270/26270 [==============================] - 18s - loss: 0.5844 - acc: 0.8380 - val_loss: 0.3807 - val_acc: 0.9162\n",
      "Epoch 5/10\n",
      "26270/26270 [==============================] - 18s - loss: 0.5350 - acc: 0.8540 - val_loss: 0.3491 - val_acc: 0.9311\n",
      "Epoch 6/10\n",
      "26270/26270 [==============================] - 18s - loss: 0.4976 - acc: 0.8688 - val_loss: 0.3162 - val_acc: 0.9352\n",
      "Epoch 7/10\n",
      "26270/26270 [==============================] - 18s - loss: 0.4646 - acc: 0.8762 - val_loss: 0.2931 - val_acc: 0.9396\n",
      "Epoch 8/10\n",
      "26270/26270 [==============================] - 18s - loss: 0.4387 - acc: 0.8811 - val_loss: 0.2752 - val_acc: 0.9447\n",
      "Epoch 9/10\n",
      "26270/26270 [==============================] - 18s - loss: 0.4117 - acc: 0.8896 - val_loss: 0.2587 - val_acc: 0.9471\n",
      "Epoch 10/10\n",
      "26270/26270 [==============================] - 18s - loss: 0.3933 - acc: 0.8928 - val_loss: 0.2449 - val_acc: 0.9511\n"
     ]
    }
   ],
   "source": [
    "history = model.fit(X_train, to_categorical(y_train), batch_size=3072, nb_epoch=10,\n",
    "                    verbose=1, validation_data=(X_val, to_categorical(y_val)))"
   ]
  },
  {
   "cell_type": "code",
   "execution_count": 135,
   "metadata": {
    "collapsed": false
   },
   "outputs": [
    {
     "name": "stdout",
     "output_type": "stream",
     "text": [
      "[0.88329855583948458, 0.90547954298187905, 0.91653142249310571, 0.91622227987280147, 0.93106112918526507, 0.9352345714263951, 0.93963984446157411, 0.94466341916906182, 0.94713657788989325, 0.95107812685781856]\n"
     ]
    }
   ],
   "source": [
    "print(history.history['val_acc'])"
   ]
  },
  {
   "cell_type": "code",
   "execution_count": 136,
   "metadata": {
    "collapsed": false
   },
   "outputs": [],
   "source": [
    "# STOP: Do not change the tests below. Your implementation should pass these tests.\n",
    "assert(history.history['val_acc'][-1] > 0.95), \"The validation accuracy is: %.3f\" % history.history['val_acc'][-1]"
   ]
  },
  {
   "cell_type": "code",
   "execution_count": 139,
   "metadata": {
    "collapsed": false
   },
   "outputs": [
    {
     "name": "stdout",
     "output_type": "stream",
     "text": [
      "Test score: 4.25486210727\n",
      "Test accuracy: 0.731037212985\n"
     ]
    }
   ],
   "source": [
    "score = model.evaluate(X_test, to_categorical(y_test), verbose=0)\n",
    "print('Test score:', score[0])\n",
    "print('Test accuracy:', score[1])"
   ]
  },
  {
   "cell_type": "markdown",
   "metadata": {},
   "source": [
    "**Validation Accuracy**: (fill in here) 95.107%"
   ]
  },
  {
   "cell_type": "markdown",
   "metadata": {},
   "source": [
    "## Pooling\n",
    "Re-construct your network and add a 2x2 [pooling layer](https://keras.io/layers/pooling/#maxpooling2d) immediately following your convolutional layer.\n",
    "\n",
    "Then compile and train the network."
   ]
  },
  {
   "cell_type": "code",
   "execution_count": 140,
   "metadata": {
    "collapsed": false,
    "scrolled": true
   },
   "outputs": [
    {
     "name": "stdout",
     "output_type": "stream",
     "text": [
      "____________________________________________________________________________________________________\n",
      "Layer (type)                     Output Shape          Param #     Connected to                     \n",
      "====================================================================================================\n",
      "convolution2d_2 (Convolution2D)  (None, 30, 30, 32)    896         convolution2d_input_2[0][0]      \n",
      "____________________________________________________________________________________________________\n",
      "activation_21 (Activation)       (None, 30, 30, 32)    0           convolution2d_2[0][0]            \n",
      "____________________________________________________________________________________________________\n",
      "maxpooling2d_1 (MaxPooling2D)    (None, 15, 15, 32)    0           activation_21[0][0]              \n",
      "____________________________________________________________________________________________________\n",
      "flatten_2 (Flatten)              (None, 7200)          0           maxpooling2d_1[0][0]             \n",
      "____________________________________________________________________________________________________\n",
      "dense_22 (Dense)                 (None, 128)           921728      flatten_2[0][0]                  \n",
      "____________________________________________________________________________________________________\n",
      "activation_22 (Activation)       (None, 128)           0           dense_22[0][0]                   \n",
      "____________________________________________________________________________________________________\n",
      "dropout_12 (Dropout)             (None, 128)           0           activation_22[0][0]              \n",
      "____________________________________________________________________________________________________\n",
      "dense_23 (Dense)                 (None, 43)            5547        dropout_12[0][0]                 \n",
      "____________________________________________________________________________________________________\n",
      "activation_23 (Activation)       (None, 43)            0           dense_23[0][0]                   \n",
      "====================================================================================================\n",
      "Total params: 928171\n",
      "____________________________________________________________________________________________________\n"
     ]
    }
   ],
   "source": [
    "# TODO: Re-construct the network and add a pooling layer after the convolutional layer.\n",
    "\n",
    "# TODO: Compile and train the model here.\n",
    "\n",
    "from keras.layers import Convolution2D, MaxPooling2D\n",
    "\n",
    "pool_size = (2, 2)\n",
    "\n",
    "model = Sequential()\n",
    "\n",
    "model.add(Convolution2D(nb_filters, kernel_size[0], kernel_size[1],\n",
    "                        border_mode='valid',\n",
    "                        input_shape=input_shape))\n",
    "model.add(Activation('relu'))\n",
    "model.add(MaxPooling2D(pool_size=pool_size))\n",
    "# model.add(Dropout(0.25))\n",
    "\n",
    "model.add(Flatten())\n",
    "\n",
    "model.add(Dense(128, input_shape=(3072, )))\n",
    "model.add(Activation('relu'))\n",
    "model.add(Dropout(0.5))\n",
    "model.add(Dense(43, input_shape=(128, )))\n",
    "model.add(Activation('softmax'))\n",
    "model.summary()\n",
    "\n",
    "model.compile(loss='categorical_crossentropy',\n",
    "              optimizer = Adam(), #optimizer='adadelta',\n",
    "              metrics=['accuracy'])"
   ]
  },
  {
   "cell_type": "code",
   "execution_count": 147,
   "metadata": {
    "collapsed": false
   },
   "outputs": [
    {
     "name": "stdout",
     "output_type": "stream",
     "text": [
      "Train on 26270 samples, validate on 12939 samples\n",
      "Epoch 1/3\n",
      "26270/26270 [==============================] - 16s - loss: 0.4147 - acc: 0.8866 - val_loss: 0.2549 - val_acc: 0.9490\n",
      "Epoch 2/3\n",
      "26270/26270 [==============================] - 16s - loss: 0.3974 - acc: 0.8910 - val_loss: 0.2445 - val_acc: 0.9487\n",
      "Epoch 3/3\n",
      "26270/26270 [==============================] - 16s - loss: 0.3854 - acc: 0.8959 - val_loss: 0.2338 - val_acc: 0.9536\n"
     ]
    }
   ],
   "source": [
    "history = model.fit(X_train, to_categorical(y_train), batch_size=3072, nb_epoch=3,\n",
    "                    verbose=1, validation_data=(X_val, to_categorical(y_val)))"
   ]
  },
  {
   "cell_type": "code",
   "execution_count": 148,
   "metadata": {
    "collapsed": false
   },
   "outputs": [
    {
     "name": "stdout",
     "output_type": "stream",
     "text": [
      "[0.94899143529773011, 0.9486822580174562, 0.95355126842832227]\n"
     ]
    }
   ],
   "source": [
    "print(history.history['val_acc'])"
   ]
  },
  {
   "cell_type": "code",
   "execution_count": 149,
   "metadata": {
    "collapsed": true
   },
   "outputs": [],
   "source": [
    "# STOP: Do not change the tests below. Your implementation should pass these tests.\n",
    "assert(history.history['val_acc'][-1] > 0.95), \"The validation accuracy is: %.3f\" % history.history['val_acc'][-1]"
   ]
  },
  {
   "cell_type": "markdown",
   "metadata": {},
   "source": [
    "**Validation Accuracy**: (fill in here) 95.36%"
   ]
  },
  {
   "cell_type": "markdown",
   "metadata": {},
   "source": [
    "## Dropout\n",
    "Re-construct your network and add [dropout](https://keras.io/layers/core/#dropout) after the pooling layer. Set the dropout rate to 50%."
   ]
  },
  {
   "cell_type": "code",
   "execution_count": 150,
   "metadata": {
    "collapsed": false
   },
   "outputs": [
    {
     "name": "stdout",
     "output_type": "stream",
     "text": [
      "____________________________________________________________________________________________________\n",
      "Layer (type)                     Output Shape          Param #     Connected to                     \n",
      "====================================================================================================\n",
      "convolution2d_3 (Convolution2D)  (None, 30, 30, 32)    896         convolution2d_input_3[0][0]      \n",
      "____________________________________________________________________________________________________\n",
      "activation_24 (Activation)       (None, 30, 30, 32)    0           convolution2d_3[0][0]            \n",
      "____________________________________________________________________________________________________\n",
      "maxpooling2d_2 (MaxPooling2D)    (None, 15, 15, 32)    0           activation_24[0][0]              \n",
      "____________________________________________________________________________________________________\n",
      "dropout_13 (Dropout)             (None, 15, 15, 32)    0           maxpooling2d_2[0][0]             \n",
      "____________________________________________________________________________________________________\n",
      "flatten_3 (Flatten)              (None, 7200)          0           dropout_13[0][0]                 \n",
      "____________________________________________________________________________________________________\n",
      "dense_24 (Dense)                 (None, 128)           921728      flatten_3[0][0]                  \n",
      "____________________________________________________________________________________________________\n",
      "activation_25 (Activation)       (None, 128)           0           dense_24[0][0]                   \n",
      "____________________________________________________________________________________________________\n",
      "dropout_14 (Dropout)             (None, 128)           0           activation_25[0][0]              \n",
      "____________________________________________________________________________________________________\n",
      "dense_25 (Dense)                 (None, 43)            5547        dropout_14[0][0]                 \n",
      "____________________________________________________________________________________________________\n",
      "activation_26 (Activation)       (None, 43)            0           dense_25[0][0]                   \n",
      "====================================================================================================\n",
      "Total params: 928171\n",
      "____________________________________________________________________________________________________\n"
     ]
    }
   ],
   "source": [
    "# TODO: Re-construct the network and add dropout after the pooling layer.\n",
    "\n",
    "# TODO: Compile and train the model here.\n",
    "\n",
    "from keras.layers import Convolution2D, MaxPooling2D\n",
    "\n",
    "pool_size = (2, 2)\n",
    "\n",
    "model = Sequential()\n",
    "\n",
    "model.add(Convolution2D(nb_filters, kernel_size[0], kernel_size[1],\n",
    "                        border_mode='valid',\n",
    "                        input_shape=input_shape))\n",
    "model.add(Activation('relu'))\n",
    "model.add(MaxPooling2D(pool_size=pool_size))\n",
    "model.add(Dropout(0.25))\n",
    "\n",
    "model.add(Flatten())\n",
    "\n",
    "model.add(Dense(128, input_shape=(3072, )))\n",
    "model.add(Activation('relu'))\n",
    "model.add(Dropout(0.5))\n",
    "model.add(Dense(43, input_shape=(128, )))\n",
    "model.add(Activation('softmax'))\n",
    "model.summary()\n",
    "\n",
    "model.compile(loss='categorical_crossentropy',\n",
    "              optimizer = Adam(), \n",
    "              metrics=['accuracy'])"
   ]
  },
  {
   "cell_type": "code",
   "execution_count": 151,
   "metadata": {
    "collapsed": false
   },
   "outputs": [
    {
     "name": "stdout",
     "output_type": "stream",
     "text": [
      "Train on 26270 samples, validate on 12939 samples\n",
      "Epoch 1/30\n",
      "26270/26270 [==============================] - 22s - loss: 3.4784 - acc: 0.0947 - val_loss: 3.1364 - val_acc: 0.2523\n",
      "Epoch 2/30\n",
      "26270/26270 [==============================] - 22s - loss: 3.0402 - acc: 0.2334 - val_loss: 2.6633 - val_acc: 0.3823\n",
      "Epoch 3/30\n",
      "26270/26270 [==============================] - 19s - loss: 2.6361 - acc: 0.3297 - val_loss: 2.2626 - val_acc: 0.4568\n",
      "Epoch 4/30\n",
      "26270/26270 [==============================] - 19s - loss: 2.2977 - acc: 0.4031 - val_loss: 1.9340 - val_acc: 0.5186\n",
      "Epoch 5/30\n",
      "26270/26270 [==============================] - 19s - loss: 2.0235 - acc: 0.4579 - val_loss: 1.6645 - val_acc: 0.5827\n",
      "Epoch 6/30\n",
      "26270/26270 [==============================] - 19s - loss: 1.7975 - acc: 0.5089 - val_loss: 1.4308 - val_acc: 0.6582\n",
      "Epoch 7/30\n",
      "26270/26270 [==============================] - 19s - loss: 1.5916 - acc: 0.5622 - val_loss: 1.2388 - val_acc: 0.7133\n",
      "Epoch 8/30\n",
      "26270/26270 [==============================] - 19s - loss: 1.4215 - acc: 0.6082 - val_loss: 1.0801 - val_acc: 0.7449\n",
      "Epoch 9/30\n",
      "26270/26270 [==============================] - 19s - loss: 1.2846 - acc: 0.6400 - val_loss: 0.9544 - val_acc: 0.7855\n",
      "Epoch 10/30\n",
      "26270/26270 [==============================] - 19s - loss: 1.1629 - acc: 0.6748 - val_loss: 0.8464 - val_acc: 0.8110\n",
      "Epoch 11/30\n",
      "26270/26270 [==============================] - 19s - loss: 1.0572 - acc: 0.6998 - val_loss: 0.7671 - val_acc: 0.8290\n",
      "Epoch 12/30\n",
      "26270/26270 [==============================] - 21s - loss: 0.9685 - acc: 0.7279 - val_loss: 0.6869 - val_acc: 0.8456\n",
      "Epoch 13/30\n",
      "26270/26270 [==============================] - 21s - loss: 0.8860 - acc: 0.7541 - val_loss: 0.6221 - val_acc: 0.8649\n",
      "Epoch 14/30\n",
      "26270/26270 [==============================] - 21s - loss: 0.8206 - acc: 0.7727 - val_loss: 0.5651 - val_acc: 0.8852\n",
      "Epoch 15/30\n",
      "26270/26270 [==============================] - 19s - loss: 0.7591 - acc: 0.7885 - val_loss: 0.5108 - val_acc: 0.8959\n",
      "Epoch 16/30\n",
      "26270/26270 [==============================] - 19s - loss: 0.7112 - acc: 0.8019 - val_loss: 0.4823 - val_acc: 0.9036\n",
      "Epoch 17/30\n",
      "26270/26270 [==============================] - 19s - loss: 0.6674 - acc: 0.8172 - val_loss: 0.4477 - val_acc: 0.9110\n",
      "Epoch 18/30\n",
      "26270/26270 [==============================] - 19s - loss: 0.6212 - acc: 0.8322 - val_loss: 0.4126 - val_acc: 0.9214\n",
      "Epoch 19/30\n",
      "26270/26270 [==============================] - 19s - loss: 0.5898 - acc: 0.8398 - val_loss: 0.3801 - val_acc: 0.9257\n",
      "Epoch 20/30\n",
      "26270/26270 [==============================] - 19s - loss: 0.5585 - acc: 0.8471 - val_loss: 0.3600 - val_acc: 0.9308\n",
      "Epoch 21/30\n",
      "26270/26270 [==============================] - 19s - loss: 0.5304 - acc: 0.8589 - val_loss: 0.3387 - val_acc: 0.9313\n",
      "Epoch 22/30\n",
      "26270/26270 [==============================] - 19s - loss: 0.5072 - acc: 0.8616 - val_loss: 0.3208 - val_acc: 0.9400\n",
      "Epoch 23/30\n",
      "26270/26270 [==============================] - 19s - loss: 0.4769 - acc: 0.8718 - val_loss: 0.3010 - val_acc: 0.9410\n",
      "Epoch 24/30\n",
      "26270/26270 [==============================] - 20s - loss: 0.4590 - acc: 0.8768 - val_loss: 0.2817 - val_acc: 0.9459\n",
      "Epoch 25/30\n",
      "26270/26270 [==============================] - 19s - loss: 0.4361 - acc: 0.8856 - val_loss: 0.2695 - val_acc: 0.9539\n",
      "Epoch 26/30\n",
      "26270/26270 [==============================] - 19s - loss: 0.4158 - acc: 0.8893 - val_loss: 0.2594 - val_acc: 0.9504\n",
      "Epoch 27/30\n",
      "26270/26270 [==============================] - 19s - loss: 0.3973 - acc: 0.8943 - val_loss: 0.2448 - val_acc: 0.9502\n",
      "Epoch 28/30\n",
      "26270/26270 [==============================] - 19s - loss: 0.3853 - acc: 0.8964 - val_loss: 0.2370 - val_acc: 0.9568\n",
      "Epoch 29/30\n",
      "26270/26270 [==============================] - 19s - loss: 0.3704 - acc: 0.9027 - val_loss: 0.2237 - val_acc: 0.9573\n",
      "Epoch 30/30\n",
      "26270/26270 [==============================] - 19s - loss: 0.3561 - acc: 0.9065 - val_loss: 0.2185 - val_acc: 0.9592\n"
     ]
    }
   ],
   "source": [
    "history = model.fit(X_train, to_categorical(y_train), batch_size=3072, nb_epoch=30,\n",
    "                    verbose=1, validation_data=(X_val, to_categorical(y_val)))"
   ]
  },
  {
   "cell_type": "code",
   "execution_count": 153,
   "metadata": {
    "collapsed": false
   },
   "outputs": [
    {
     "name": "stdout",
     "output_type": "stream",
     "text": [
      "[0.2522606163173603, 0.38225519716559997, 0.45675863618920359, 0.51858721729113166, 0.58273436062412809, 0.65816523128835003, 0.71334725094593343, 0.74487983061049501, 0.78545482155067747, 0.81103641219020806, 0.82896669887208396, 0.84558312122600143, 0.86490455624290496, 0.88515340881117699, 0.89589613826706604, 0.9036247016464285, 0.91104412912189225, 0.92140042823289126, 0.9256511328946182, 0.93075198884522203, 0.93129299056245307, 0.94002627144826145, 0.94103100059094902, 0.94589999685037618, 0.95386041740571814, 0.95038257391746317, 0.95015071038439192, 0.95679728496442285, 0.95726098852314589, 0.95919312693916281]\n"
     ]
    }
   ],
   "source": [
    "print(history.history['val_acc'])"
   ]
  },
  {
   "cell_type": "code",
   "execution_count": 152,
   "metadata": {
    "collapsed": true
   },
   "outputs": [],
   "source": [
    "# STOP: Do not change the tests below. Your implementation should pass these tests.\n",
    "assert(history.history['val_acc'][-1] > 0.95), \"The validation accuracy is: %.3f\" % history.history['val_acc'][-1]"
   ]
  },
  {
   "cell_type": "markdown",
   "metadata": {
    "collapsed": true
   },
   "source": [
    "**Validation Accuracy**: (fill in here) 95.92%"
   ]
  },
  {
   "cell_type": "markdown",
   "metadata": {},
   "source": [
    "## Optimization\n",
    "Congratulations! You've built a neural network with convolutions, pooling, dropout, and fully-connected layers, all in just a few lines of code.\n",
    "\n",
    "Have fun with the model and see how well you can do! Add more layers, or regularization, or different padding, or batches, or more training epochs.\n",
    "\n",
    "What is the best validation accuracy you can achieve?"
   ]
  },
  {
   "cell_type": "code",
   "execution_count": 155,
   "metadata": {
    "collapsed": true
   },
   "outputs": [],
   "source": [
    "# feeling lazy here\n",
    "from keras.layers import Conv2D"
   ]
  },
  {
   "cell_type": "markdown",
   "metadata": {},
   "source": [
    "**Best Validation Accuracy:** (fill in here) 95.92%"
   ]
  },
  {
   "cell_type": "markdown",
   "metadata": {},
   "source": [
    "## Testing\n",
    "Once you've picked out your best model, it's time to test it.\n",
    "\n",
    "Load up the test data and use the [`evaluate()` method](https://keras.io/models/model/#evaluate) to see how well it does.\n",
    "\n",
    "Hint 1: The `evaluate()` method should return an array of numbers. Use the `metrics_names()` method to get the labels."
   ]
  },
  {
   "cell_type": "code",
   "execution_count": 154,
   "metadata": {
    "collapsed": false
   },
   "outputs": [
    {
     "name": "stdout",
     "output_type": "stream",
     "text": [
      "Test score: 3.13781832709\n",
      "Test accuracy: 0.800633412463\n"
     ]
    }
   ],
   "source": [
    "# TODO: Load test data\n",
    "    \n",
    "# TODO: Preprocess data & one-hot encode the labels\n",
    "\n",
    "# TODO: Evaluate model on test data\n",
    "\n",
    "score = model.evaluate(X_test, to_categorical(y_test), verbose=0)\n",
    "print('Test score:', score[0])\n",
    "print('Test accuracy:', score[1])"
   ]
  },
  {
   "cell_type": "markdown",
   "metadata": {},
   "source": [
    "**Test Accuracy:** (fill in here) 80%"
   ]
  },
  {
   "cell_type": "markdown",
   "metadata": {},
   "source": [
    "## Summary\n",
    "Keras is a great tool to use if you want to quickly build a neural network and evaluate performance."
   ]
  }
 ],
 "metadata": {
  "anaconda-cloud": {},
  "kernelspec": {
   "display_name": "Python 3",
   "language": "python",
   "name": "python3"
  },
  "language_info": {
   "codemirror_mode": {
    "name": "ipython",
    "version": 3
   },
   "file_extension": ".py",
   "mimetype": "text/x-python",
   "name": "python",
   "nbconvert_exporter": "python",
   "pygments_lexer": "ipython3",
   "version": "3.5.2"
  },
  "widgets": {
   "state": {},
   "version": "1.1.2"
  }
 },
 "nbformat": 4,
 "nbformat_minor": 0
}
